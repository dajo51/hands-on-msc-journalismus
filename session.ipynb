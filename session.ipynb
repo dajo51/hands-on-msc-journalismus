{
 "cells": [
  {
   "cell_type": "code",
   "execution_count": null,
   "metadata": {},
   "outputs": [],
   "source": [
    "import requests\n",
    "from bs4 import BeautifulSoup\n",
    "\n",
    "# URL of the news website (replace with a real URL if possible)\n",
    "url = \"https://example.com/news\"\n",
    "\n",
    "# Request and parse the webpage\n",
    "response = requests.get(url)\n",
    "soup = BeautifulSoup(response.text, 'html.parser')\n",
    "\n",
    "# Extract and store headlines in a list\n",
    "headlines = [h2.text for h2 in soup.find_all('h2')]\n",
    "print(\"Headlines:\", headlines)"
   ]
  },
  {
   "cell_type": "code",
   "execution_count": null,
   "metadata": {},
   "outputs": [],
   "source": [
    "from transformers import pipeline\n",
    "import pandas as pd\n",
    "\n",
    "# Load the sentiment analysis pipeline\n",
    "sentiment_analyzer = pipeline(\"sentiment-analysis\")\n",
    "\n",
    "# Analyze sentiment for each headline\n",
    "sentiment_results = []\n",
    "for headline in headlines:\n",
    "    result = sentiment_analyzer(headline)[0]\n",
    "    sentiment_results.append({\n",
    "        'Headline': headline,\n",
    "        'Sentiment': result['label'],\n",
    "        'Score': result['score']\n",
    "    })\n",
    "\n",
    "# Convert results to a DataFrame for easy viewing and manipulation\n",
    "sentiment_df = pd.DataFrame(sentiment_results)\n",
    "sentiment_df.head()"
   ]
  },
  {
   "cell_type": "code",
   "execution_count": null,
   "metadata": {},
   "outputs": [],
   "source": [
    "import matplotlib.pyplot as plt\n",
    "\n",
    "# Count the number of headlines in each sentiment category\n",
    "sentiment_counts = sentiment_df['Sentiment'].value_counts()\n",
    "\n",
    "# Plot sentiment distribution as a bar chart\n",
    "plt.figure(figsize=(8, 6))\n",
    "plt.bar(sentiment_counts.index, sentiment_counts.values, color=['skyblue', 'salmon'])\n",
    "plt.xlabel(\"Sentiment\")\n",
    "plt.ylabel(\"Number of Headlines\")\n",
    "plt.title(\"Sentiment Distribution of News Headlines\")\n",
    "plt.show()"
   ]
  },
  {
   "cell_type": "code",
   "execution_count": null,
   "metadata": {},
   "outputs": [],
   "source": [
    "from collections import Counter\n",
    "import re\n",
    "\n",
    "# Tokenize and remove common stop words\n",
    "stop_words = {'the', 'is', 'on', 'and', 'a', 'of', 'to', 'in', 'for'}\n",
    "words = [word.lower() for headline in headlines for word in re.findall(r'\\w+', headline) if word.lower() not in stop_words]\n",
    "\n",
    "# Count word frequencies\n",
    "word_counts = Counter(words)\n",
    "common_words = word_counts.most_common(10)\n",
    "print(\"Top 10 Common Words:\", common_words)\n",
    "\n",
    "# Convert to DataFrame for visualization\n",
    "words_df = pd.DataFrame(common_words, columns=['Word', 'Frequency'])\n",
    "\n",
    "# Plot common words as a bar chart\n",
    "plt.figure(figsize=(10, 6))\n",
    "plt.bar(words_df['Word'], words_df['Frequency'], color='lightgreen')\n",
    "plt.xlabel(\"Words\")\n",
    "plt.ylabel(\"Frequency\")\n",
    "plt.title(\"Top 10 Common Words in Headlines\")\n",
    "plt.show()"
   ]
  },
  {
   "cell_type": "code",
   "execution_count": null,
   "metadata": {},
   "outputs": [],
   "source": [
    "### Conclusion\n",
    "In this notebook, we explored:\n",
    "- How to scrape news headlines using Python and BeautifulSoup.\n",
    "- How to use a pre-trained AI model to perform sentiment analysis on news headlines.\n",
    "- How to visualize trends and patterns in sentiment and keyword frequency.\n",
    "\n",
    "These techniques provide powerful ways for journalists to analyze news coverage and public sentiment. \n",
    "We hope you feel inspired to continue exploring Python and AI for data journalism."
   ]
  }
 ],
 "metadata": {
  "language_info": {
   "name": "python"
  }
 },
 "nbformat": 4,
 "nbformat_minor": 2
}
